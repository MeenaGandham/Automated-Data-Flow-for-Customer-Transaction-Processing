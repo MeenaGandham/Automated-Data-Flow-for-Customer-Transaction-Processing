{
 "cells": [
  {
   "cell_type": "code",
   "execution_count": 1,
   "id": "7420c905",
   "metadata": {},
   "outputs": [
    {
     "name": "stdout",
     "output_type": "stream",
     "text": [
      "Collecting faker\n",
      "  Downloading Faker-18.13.0-py3-none-any.whl (1.7 MB)\n",
      "     |████████████████████████████████| 1.7 MB 20.1 MB/s            \n",
      "\u001b[?25hRequirement already satisfied: typing-extensions>=3.10.0.1 in /usr/local/lib/python3.7/dist-packages (from faker) (4.0.0)\n",
      "Requirement already satisfied: python-dateutil>=2.4 in /usr/local/lib/python3.7/dist-packages (from faker) (2.8.2)\n",
      "Requirement already satisfied: six>=1.5 in /usr/lib/python3/dist-packages (from python-dateutil>=2.4->faker) (1.12.0)\n",
      "Installing collected packages: faker\n",
      "Successfully installed faker-18.13.0\n",
      "\u001b[33mWARNING: Running pip as the 'root' user can result in broken permissions and conflicting behaviour with the system package manager. It is recommended to use a virtual environment instead: https://pip.pypa.io/warnings/venv\u001b[0m\n",
      "\u001b[33mWARNING: You are using pip version 21.3.1; however, version 24.0 is available.\n",
      "You should consider upgrading via the '/usr/bin/python3 -m pip install --upgrade pip' command.\u001b[0m\n",
      "Note: you may need to restart the kernel to use updated packages.\n"
     ]
    }
   ],
   "source": [
    "pip install faker"
   ]
  },
  {
   "cell_type": "code",
   "execution_count": 14,
   "id": "2b96d593",
   "metadata": {},
   "outputs": [],
   "source": [
    "from faker import Faker\n",
    "import csv\n",
    "from datetime import datetime \n",
    "import time\n",
    "\n",
    "RECORD_COUNT = 10000\n",
    "fake = Faker()"
   ]
  },
  {
   "cell_type": "code",
   "execution_count": 15,
   "id": "eff2e7c1",
   "metadata": {},
   "outputs": [
    {
     "name": "stdout",
     "output_type": "stream",
     "text": [
      "20250128071303\n"
     ]
    }
   ],
   "source": [
    "current_time = datetime.now().strftime(\"%Y%m%d%H%M%S\")\n",
    "print(current_time)\n",
    "def create_csv_file():\n",
    "    with open(f'FakeDataset/customer_{current_time}.csv', 'w', newline='') as csvfile:\n",
    "        fieldnames = [\"customer_id\",\"first_name\",\"last_name\",\"email\",\"street\",\n",
    "                      \"city\",\"state\",\"country\"\n",
    "                     ]\n",
    "        writer = csv.DictWriter(csvfile, fieldnames=fieldnames)\n",
    "\n",
    "        writer.writeheader()\n",
    "        for i in range(RECORD_COUNT):\n",
    "            #print(i)\n",
    "            writer.writerow(\n",
    "                {\n",
    "                    \"customer_id\": i,\n",
    "                    'first_name': fake.first_name(),\n",
    "                    'last_name': fake.last_name(),\n",
    "                    'email': fake.email(),\n",
    "                    'street': fake.street_address(),\n",
    "                    'city': fake.city(),\n",
    "                    'state': fake.state(),\n",
    "                    'country': fake.country()\n",
    "                }\n",
    "            )\n"
   ]
  },
  {
   "cell_type": "code",
   "execution_count": 16,
   "id": "ce3a48b7",
   "metadata": {},
   "outputs": [],
   "source": [
    "if __name__ == '__main__':\n",
    "    create_csv_file()"
   ]
  },
  {
   "cell_type": "code",
   "execution_count": null,
   "id": "6085d7f3",
   "metadata": {},
   "outputs": [],
   "source": [
    "### Use the following block of code to generate and save fake data in batches every 10 minutes. ###\n",
    "### It tracks the number of batches and the timestamp of each batch. ###\n",
    "### The process runs indefinitely until stopped manually. ###\n",
    "\n",
    "# def update_time_stamp():\n",
    "#     current_time = dt.now().strftime(\"%Y%m%d%H%M%S\")\n",
    "#     return current_time\n",
    "\n",
    "# def create_csv_file(time_stamp):\n",
    "#     with open(\n",
    "#         f\"FakeDataset/customer_{current_time}.csv', 'w', newline=''\n",
    "#     ) as csvfile:\n",
    "#         fieldnames = [\n",
    "#             \"customer_id\",\n",
    "#             \"first_name\",\n",
    "#             \"last_name\",\n",
    "#             \"email\",\n",
    "#             \"street\",\n",
    "#             \"city\",\n",
    "#             \"state\",\n",
    "#             \"country\",\n",
    "#         ]\n",
    "#         writer = csv.DictWriter(csvfile, fieldnames=fieldnames)\n",
    "\n",
    "#         writer.writeheader()\n",
    "#         for i in range(RECORD_COUNT):\n",
    "#             writer.writerow(\n",
    "#                 {\n",
    "#                     \"customer_id\": i,\n",
    "#                     \"first_name\": fake.first_name(),\n",
    "#                     \"last_name\": fake.last_name(),\n",
    "#                     \"email\": fake.email(),\n",
    "#                     \"street\": fake.street_address(),\n",
    "#                     \"city\": fake.city(),\n",
    "#                     \"state\": fake.state(),\n",
    "#                     \"country\": fake.country(),\n",
    "#                 }\n",
    "#             )\n",
    "\n",
    "# # if __name__ == \"__main__\":\n",
    "#     file_counter = 0\n",
    "#     try:\n",
    "#         while True:\n",
    "#             current_time = update_time_stamp()\n",
    "#             file_counter += 1\n",
    "\n",
    "#             print(f\"Generating fake data, Batch #: {file_counter} at {current_time}.\")\n",
    "\n",
    "#             create_csv_file(current_time)\n",
    "\n",
    "#             time.sleep(600)\n",
    "\n",
    "#     except KeyboardInterrupt:\n",
    "#         print(\"Generation stopped manually.\")\n",
    "\n",
    "#     finally:\n",
    "#         print(f\"{file_counter} batches generated, final file time: {current_time}.\")"
   ]
  }
 ],
 "metadata": {
  "kernelspec": {
   "display_name": "Python 3 (ipykernel)",
   "language": "python",
   "name": "python3"
  },
  "language_info": {
   "codemirror_mode": {
    "name": "ipython",
    "version": 3
   },
   "file_extension": ".py",
   "mimetype": "text/x-python",
   "name": "python",
   "nbconvert_exporter": "python",
   "pygments_lexer": "ipython3",
   "version": "3.7.3"
  }
 },
 "nbformat": 4,
 "nbformat_minor": 5
}
