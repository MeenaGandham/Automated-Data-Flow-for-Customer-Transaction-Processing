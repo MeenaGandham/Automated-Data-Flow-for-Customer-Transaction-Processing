{
 "cells": [
  {
   "cell_type": "code",
   "execution_count": null,
   "id": "bd0c9a23-504b-4390-ad81-fefe3e58c42b",
   "metadata": {},
   "outputs": [],
   "source": [
    "pip install faker"
   ]
  },
  {
   "cell_type": "code",
   "execution_count": null,
   "id": "5e8e6100-d6d5-49ef-9117-5c3222cfa811",
   "metadata": {},
   "outputs": [],
   "source": [
    "from faker import Faker\n",
    "import csv\n",
    "from datetime import datetime as dt\n",
    "import time\n",
    "\n",
    "RECORD_COUNT = 10000\n",
    "fake = Faker()"
   ]
  },
  {
   "cell_type": "code",
   "execution_count": null,
   "id": "7b8ad900-a77d-4b2c-b477-1ad8c44b8462",
   "metadata": {},
   "outputs": [],
   "source": [
    "def create_csv_file():\n",
    "    with open(f'FakeDataset/customer_{current_time}.csv', 'w', newline='') as csvfile:\n",
    "        fieldnames = [\"customer_id\",\"first_name\",\"last_name\",\"email\",\"street\",\n",
    "                      \"city\",\"state\",\"country\"\n",
    "                     ]\n",
    "        writer = csv.DictWriter(csvfile, fieldnames=fieldnames)\n",
    "\n",
    "        writer.writeheader()\n",
    "        for i in range(RECORD_COUNT):\n",
    "            #print(i)\n",
    "            writer.writerow(\n",
    "                {\n",
    "                    \"customer_id\": i,\n",
    "                    'first_name': fake.first_name(),\n",
    "                    'last_name': fake.last_name(),\n",
    "                    'email': fake.email(),\n",
    "                    'street': fake.street_address(),\n",
    "                    'city': fake.city(),\n",
    "                    'state': fake.state(),\n",
    "                    'country': fake.country()\n",
    "                }\n",
    "            )\n"
   ]
  },
  {
   "cell_type": "code",
   "execution_count": null,
   "id": "491be496-72e5-4f33-894b-b8da204a4967",
   "metadata": {},
   "outputs": [],
   "source": [
    "if __name__ == '__main__':\n",
    "    create_csv_file()"
   ]
  },
  {
   "cell_type": "code",
   "execution_count": null,
   "id": "81fce4f6-fbd5-4f0e-9f51-b493b9c2a939",
   "metadata": {},
   "outputs": [],
   "source": [
    "### Use the following block of code to generate and save fake data in batches every 10 minutes. ###\n",
    "### It tracks the number of batches and the timestamp of each batch. ###\n",
    "### The process runs indefinitely until stopped manually. ###\n",
    "\n",
    "# def update_time_stamp():\n",
    "#     current_time = dt.now().strftime(\"%Y%m%d%H%M%S\")\n",
    "#     return current_time\n",
    "\n",
    "# def create_csv_file(time_stamp):\n",
    "#     with open(\n",
    "#         f\"FakeDataset/customer_{current_time}.csv', 'w', newline=''\n",
    "#     ) as csvfile:\n",
    "#         fieldnames = [\n",
    "#             \"customer_id\",\n",
    "#             \"first_name\",\n",
    "#             \"last_name\",\n",
    "#             \"email\",\n",
    "#             \"street\",\n",
    "#             \"city\",\n",
    "#             \"state\",\n",
    "#             \"country\",\n",
    "#         ]\n",
    "#         writer = csv.DictWriter(csvfile, fieldnames=fieldnames)\n",
    "\n",
    "#         writer.writeheader()\n",
    "#         for i in range(RECORD_COUNT):\n",
    "#             writer.writerow(\n",
    "#                 {\n",
    "#                     \"customer_id\": i,\n",
    "#                     \"first_name\": fake.first_name(),\n",
    "#                     \"last_name\": fake.last_name(),\n",
    "#                     \"email\": fake.email(),\n",
    "#                     \"street\": fake.street_address(),\n",
    "#                     \"city\": fake.city(),\n",
    "#                     \"state\": fake.state(),\n",
    "#                     \"country\": fake.country(),\n",
    "#                 }\n",
    "#             )\n",
    "\n",
    "# # if __name__ == \"__main__\":\n",
    "#     file_counter = 0\n",
    "#     try:\n",
    "#         while True:\n",
    "#             current_time = update_time_stamp()\n",
    "#             file_counter += 1\n",
    "\n",
    "#             print(f\"Generating fake data, Batch #: {file_counter} at {current_time}.\")\n",
    "\n",
    "#             create_csv_file(current_time)\n",
    "\n",
    "#             time.sleep(600)\n",
    "\n",
    "#     except KeyboardInterrupt:\n",
    "#         print(\"Generation stopped manually.\")\n",
    "\n",
    "#     finally:\n",
    "#         print(f\"{file_counter} batches generated, final file time: {current_time}.\")"
   ]
  }
 ],
 "metadata": {
  "kernelspec": {
   "display_name": "Python 3 (ipykernel)",
   "language": "python",
   "name": "python3"
  },
  "language_info": {
   "codemirror_mode": {
    "name": "ipython",
    "version": 3
   },
   "file_extension": ".py",
   "mimetype": "text/x-python",
   "name": "python",
   "nbconvert_exporter": "python",
   "pygments_lexer": "ipython3",
   "version": "3.13.1"
  }
 },
 "nbformat": 4,
 "nbformat_minor": 5
}
